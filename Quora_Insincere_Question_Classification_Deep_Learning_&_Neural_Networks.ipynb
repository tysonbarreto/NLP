{
  "nbformat": 4,
  "nbformat_minor": 0,
  "metadata": {
    "colab": {
      "provenance": [],
      "gpuType": "T4",
      "authorship_tag": "ABX9TyOLh10y7tc7/WP3xwZH+HqO",
      "include_colab_link": true
    },
    "kernelspec": {
      "name": "python3",
      "display_name": "Python 3"
    },
    "language_info": {
      "name": "python"
    },
    "accelerator": "GPU"
  },
  "cells": [
    {
      "cell_type": "markdown",
      "metadata": {
        "id": "view-in-github",
        "colab_type": "text"
      },
      "source": [
        "<a href=\"https://colab.research.google.com/github/tysonbarreto/NLP/blob/main/Quora_Insincere_Question_Classification_Deep_Learning_%26_Neural_Networks.ipynb\" target=\"_parent\"><img src=\"https://colab.research.google.com/assets/colab-badge.svg\" alt=\"Open In Colab\"/></a>"
      ]
    },
    {
      "cell_type": "code",
      "source": [
        "import os\n",
        "import pandas as pd\n",
        "\n",
        "from sklearn.feature_extraction.text import TfidfVectorizer\n",
        "from sklearn.model_selection import train_test_split\n",
        "from sklearn.metrics import accuracy_score, f1_score\n",
        "\n",
        "from nltk.tokenize import word_tokenize\n",
        "from nltk.stem import SnowballStemmer\n",
        "from nltk.corpus import stopwords\n",
        "import nltk\n",
        "\n",
        "import torch\n",
        "from torch.utils.data import TensorDataset,DataLoader\n",
        "\n",
        "import torch.nn as nn\n",
        "import torch.nn.functional as F"
      ],
      "metadata": {
        "id": "KQfyFVzc694Y"
      },
      "execution_count": null,
      "outputs": []
    },
    {
      "cell_type": "code",
      "source": [
        "nltk.download('punkt')"
      ],
      "metadata": {
        "colab": {
          "base_uri": "https://localhost:8080/"
        },
        "id": "-nXYLzJyHDze",
        "outputId": "dff4e152-242e-4075-9e18-adbc3ffd9d3d"
      },
      "execution_count": null,
      "outputs": [
        {
          "output_type": "stream",
          "name": "stderr",
          "text": [
            "[nltk_data] Downloading package punkt to /root/nltk_data...\n",
            "[nltk_data]   Package punkt is already up-to-date!\n"
          ]
        },
        {
          "output_type": "execute_result",
          "data": {
            "text/plain": [
              "True"
            ]
          },
          "metadata": {},
          "execution_count": 301
        }
      ]
    },
    {
      "cell_type": "code",
      "source": [
        "nltk.download('stopwords')"
      ],
      "metadata": {
        "colab": {
          "base_uri": "https://localhost:8080/"
        },
        "id": "APt5JN2esiVR",
        "outputId": "7bb85a08-a478-4d77-8c13-55a9df87b80c"
      },
      "execution_count": null,
      "outputs": [
        {
          "output_type": "stream",
          "name": "stderr",
          "text": [
            "[nltk_data] Downloading package stopwords to /root/nltk_data...\n",
            "[nltk_data]   Package stopwords is already up-to-date!\n"
          ]
        },
        {
          "output_type": "execute_result",
          "data": {
            "text/plain": [
              "True"
            ]
          },
          "metadata": {},
          "execution_count": 302
        }
      ]
    },
    {
      "cell_type": "markdown",
      "source": [
        "##Download Data from Kaggle"
      ],
      "metadata": {
        "id": "Kpcn9Fbe62sb"
      }
    },
    {
      "cell_type": "code",
      "execution_count": null,
      "metadata": {
        "id": "oOlo-FAr6Dmj"
      },
      "outputs": [],
      "source": [
        "os.environ['KAGGLE_CONFIG_DIR']='/content'"
      ]
    },
    {
      "cell_type": "code",
      "source": [
        "! kaggle competitions download -c quora-insincere-questions-classification -f train.csv\n",
        "! kaggle competitions download -c quora-insincere-questions-classification -f test.csv\n",
        "! kaggle competitions download -c quora-insincere-questions-classification -f sample_submission.csv\n"
      ],
      "metadata": {
        "colab": {
          "base_uri": "https://localhost:8080/"
        },
        "id": "z4W88b636-yC",
        "outputId": "e0fdada9-480f-45d4-a2c6-81492c8cbfee"
      },
      "execution_count": null,
      "outputs": [
        {
          "output_type": "stream",
          "name": "stdout",
          "text": [
            "Warning: Your Kaggle API key is readable by other users on this system! To fix this, you can run 'chmod 600 /content/kaggle.json'\n",
            "train.csv.zip: Skipping, found more recently modified local copy (use --force to force download)\n",
            "Warning: Your Kaggle API key is readable by other users on this system! To fix this, you can run 'chmod 600 /content/kaggle.json'\n",
            "test.csv.zip: Skipping, found more recently modified local copy (use --force to force download)\n",
            "Warning: Your Kaggle API key is readable by other users on this system! To fix this, you can run 'chmod 600 /content/kaggle.json'\n",
            "sample_submission.csv.zip: Skipping, found more recently modified local copy (use --force to force download)\n"
          ]
        }
      ]
    },
    {
      "cell_type": "code",
      "source": [
        "train_fname = './train.csv.zip'\n",
        "test_fname = './test.csv.zip'\n",
        "sub_fname = './sample_submission.csv.zip'\n"
      ],
      "metadata": {
        "id": "XK6KQrm477pz"
      },
      "execution_count": null,
      "outputs": []
    },
    {
      "cell_type": "code",
      "source": [
        "raw_df = pd.read_csv(train_fname)\n",
        "test_df = pd.read_csv(test_fname)\n",
        "sub_df = pd.read_csv(sub_fname)\n"
      ],
      "metadata": {
        "id": "3mLEZBmZ8Kbb"
      },
      "execution_count": null,
      "outputs": []
    },
    {
      "cell_type": "code",
      "source": [
        "sample_df = raw_df.sample(100_000)"
      ],
      "metadata": {
        "id": "XpONxOtT8WRi"
      },
      "execution_count": null,
      "outputs": []
    },
    {
      "cell_type": "markdown",
      "source": [
        "#Prepare the Data for Training\n",
        "\n",
        "* Convert text to TF-IDF\n",
        "* Convert vectors to PyTorch Tensors\n",
        "* Create PyTorch Data Loaders"
      ],
      "metadata": {
        "id": "GWWhLD2X84ws"
      }
    },
    {
      "cell_type": "code",
      "source": [
        "stemmer = SnowballStemmer(language='english')"
      ],
      "metadata": {
        "id": "j6cB32ceHbeB"
      },
      "execution_count": null,
      "outputs": []
    },
    {
      "cell_type": "code",
      "source": [
        "english_stopwords = stopwords.words('english')"
      ],
      "metadata": {
        "id": "yHPmAIeWsyjk"
      },
      "execution_count": null,
      "outputs": []
    },
    {
      "cell_type": "code",
      "source": [
        "def tokenize(text):\n",
        "  return [stemmer.stem(token) for token in word_tokenize(text)]"
      ],
      "metadata": {
        "id": "0NoLlYISG_TY"
      },
      "execution_count": null,
      "outputs": []
    },
    {
      "cell_type": "code",
      "source": [
        "vectorizer = TfidfVectorizer(tokenizer = tokenize, stop_words=english_stopwords, max_features=1000)"
      ],
      "metadata": {
        "id": "mVaNjS6S88Lz"
      },
      "execution_count": null,
      "outputs": []
    },
    {
      "cell_type": "code",
      "source": [
        "vectorizer.fit(sample_df['question_text'])"
      ],
      "metadata": {
        "colab": {
          "base_uri": "https://localhost:8080/",
          "height": 286
        },
        "id": "AyD8IhXYt3ji",
        "outputId": "33f26218-8f0c-4de4-8285-cc55d7db3b20"
      },
      "execution_count": null,
      "outputs": [
        {
          "output_type": "stream",
          "name": "stderr",
          "text": [
            "/usr/local/lib/python3.10/dist-packages/sklearn/feature_extraction/text.py:528: UserWarning: The parameter 'token_pattern' will not be used since 'tokenizer' is not None'\n",
            "  warnings.warn(\n",
            "/usr/local/lib/python3.10/dist-packages/sklearn/feature_extraction/text.py:409: UserWarning: Your stop_words may be inconsistent with your preprocessing. Tokenizing the stop words generated tokens [\"'d\", \"'s\", 'abov', 'ani', 'becaus', 'befor', 'could', 'doe', 'dure', 'might', 'must', \"n't\", 'need', 'onc', 'onli', 'ourselv', 'sha', 'themselv', 'veri', 'whi', 'wo', 'would', 'yourselv'] not in stop_words.\n",
            "  warnings.warn(\n"
          ]
        },
        {
          "output_type": "execute_result",
          "data": {
            "text/plain": [
              "TfidfVectorizer(max_features=1000,\n",
              "                stop_words=['i', 'me', 'my', 'myself', 'we', 'our', 'ours',\n",
              "                            'ourselves', 'you', \"you're\", \"you've\", \"you'll\",\n",
              "                            \"you'd\", 'your', 'yours', 'yourself', 'yourselves',\n",
              "                            'he', 'him', 'his', 'himself', 'she', \"she's\",\n",
              "                            'her', 'hers', 'herself', 'it', \"it's\", 'its',\n",
              "                            'itself', ...],\n",
              "                tokenizer=<function tokenize at 0x7854b9206ef0>)"
            ],
            "text/html": [
              "<style>#sk-container-id-4 {color: black;background-color: white;}#sk-container-id-4 pre{padding: 0;}#sk-container-id-4 div.sk-toggleable {background-color: white;}#sk-container-id-4 label.sk-toggleable__label {cursor: pointer;display: block;width: 100%;margin-bottom: 0;padding: 0.3em;box-sizing: border-box;text-align: center;}#sk-container-id-4 label.sk-toggleable__label-arrow:before {content: \"▸\";float: left;margin-right: 0.25em;color: #696969;}#sk-container-id-4 label.sk-toggleable__label-arrow:hover:before {color: black;}#sk-container-id-4 div.sk-estimator:hover label.sk-toggleable__label-arrow:before {color: black;}#sk-container-id-4 div.sk-toggleable__content {max-height: 0;max-width: 0;overflow: hidden;text-align: left;background-color: #f0f8ff;}#sk-container-id-4 div.sk-toggleable__content pre {margin: 0.2em;color: black;border-radius: 0.25em;background-color: #f0f8ff;}#sk-container-id-4 input.sk-toggleable__control:checked~div.sk-toggleable__content {max-height: 200px;max-width: 100%;overflow: auto;}#sk-container-id-4 input.sk-toggleable__control:checked~label.sk-toggleable__label-arrow:before {content: \"▾\";}#sk-container-id-4 div.sk-estimator input.sk-toggleable__control:checked~label.sk-toggleable__label {background-color: #d4ebff;}#sk-container-id-4 div.sk-label input.sk-toggleable__control:checked~label.sk-toggleable__label {background-color: #d4ebff;}#sk-container-id-4 input.sk-hidden--visually {border: 0;clip: rect(1px 1px 1px 1px);clip: rect(1px, 1px, 1px, 1px);height: 1px;margin: -1px;overflow: hidden;padding: 0;position: absolute;width: 1px;}#sk-container-id-4 div.sk-estimator {font-family: monospace;background-color: #f0f8ff;border: 1px dotted black;border-radius: 0.25em;box-sizing: border-box;margin-bottom: 0.5em;}#sk-container-id-4 div.sk-estimator:hover {background-color: #d4ebff;}#sk-container-id-4 div.sk-parallel-item::after {content: \"\";width: 100%;border-bottom: 1px solid gray;flex-grow: 1;}#sk-container-id-4 div.sk-label:hover label.sk-toggleable__label {background-color: #d4ebff;}#sk-container-id-4 div.sk-serial::before {content: \"\";position: absolute;border-left: 1px solid gray;box-sizing: border-box;top: 0;bottom: 0;left: 50%;z-index: 0;}#sk-container-id-4 div.sk-serial {display: flex;flex-direction: column;align-items: center;background-color: white;padding-right: 0.2em;padding-left: 0.2em;position: relative;}#sk-container-id-4 div.sk-item {position: relative;z-index: 1;}#sk-container-id-4 div.sk-parallel {display: flex;align-items: stretch;justify-content: center;background-color: white;position: relative;}#sk-container-id-4 div.sk-item::before, #sk-container-id-4 div.sk-parallel-item::before {content: \"\";position: absolute;border-left: 1px solid gray;box-sizing: border-box;top: 0;bottom: 0;left: 50%;z-index: -1;}#sk-container-id-4 div.sk-parallel-item {display: flex;flex-direction: column;z-index: 1;position: relative;background-color: white;}#sk-container-id-4 div.sk-parallel-item:first-child::after {align-self: flex-end;width: 50%;}#sk-container-id-4 div.sk-parallel-item:last-child::after {align-self: flex-start;width: 50%;}#sk-container-id-4 div.sk-parallel-item:only-child::after {width: 0;}#sk-container-id-4 div.sk-dashed-wrapped {border: 1px dashed gray;margin: 0 0.4em 0.5em 0.4em;box-sizing: border-box;padding-bottom: 0.4em;background-color: white;}#sk-container-id-4 div.sk-label label {font-family: monospace;font-weight: bold;display: inline-block;line-height: 1.2em;}#sk-container-id-4 div.sk-label-container {text-align: center;}#sk-container-id-4 div.sk-container {/* jupyter's `normalize.less` sets `[hidden] { display: none; }` but bootstrap.min.css set `[hidden] { display: none !important; }` so we also need the `!important` here to be able to override the default hidden behavior on the sphinx rendered scikit-learn.org. See: https://github.com/scikit-learn/scikit-learn/issues/21755 */display: inline-block !important;position: relative;}#sk-container-id-4 div.sk-text-repr-fallback {display: none;}</style><div id=\"sk-container-id-4\" class=\"sk-top-container\"><div class=\"sk-text-repr-fallback\"><pre>TfidfVectorizer(max_features=1000,\n",
              "                stop_words=[&#x27;i&#x27;, &#x27;me&#x27;, &#x27;my&#x27;, &#x27;myself&#x27;, &#x27;we&#x27;, &#x27;our&#x27;, &#x27;ours&#x27;,\n",
              "                            &#x27;ourselves&#x27;, &#x27;you&#x27;, &quot;you&#x27;re&quot;, &quot;you&#x27;ve&quot;, &quot;you&#x27;ll&quot;,\n",
              "                            &quot;you&#x27;d&quot;, &#x27;your&#x27;, &#x27;yours&#x27;, &#x27;yourself&#x27;, &#x27;yourselves&#x27;,\n",
              "                            &#x27;he&#x27;, &#x27;him&#x27;, &#x27;his&#x27;, &#x27;himself&#x27;, &#x27;she&#x27;, &quot;she&#x27;s&quot;,\n",
              "                            &#x27;her&#x27;, &#x27;hers&#x27;, &#x27;herself&#x27;, &#x27;it&#x27;, &quot;it&#x27;s&quot;, &#x27;its&#x27;,\n",
              "                            &#x27;itself&#x27;, ...],\n",
              "                tokenizer=&lt;function tokenize at 0x7854b9206ef0&gt;)</pre><b>In a Jupyter environment, please rerun this cell to show the HTML representation or trust the notebook. <br />On GitHub, the HTML representation is unable to render, please try loading this page with nbviewer.org.</b></div><div class=\"sk-container\" hidden><div class=\"sk-item\"><div class=\"sk-estimator sk-toggleable\"><input class=\"sk-toggleable__control sk-hidden--visually\" id=\"sk-estimator-id-4\" type=\"checkbox\" checked><label for=\"sk-estimator-id-4\" class=\"sk-toggleable__label sk-toggleable__label-arrow\">TfidfVectorizer</label><div class=\"sk-toggleable__content\"><pre>TfidfVectorizer(max_features=1000,\n",
              "                stop_words=[&#x27;i&#x27;, &#x27;me&#x27;, &#x27;my&#x27;, &#x27;myself&#x27;, &#x27;we&#x27;, &#x27;our&#x27;, &#x27;ours&#x27;,\n",
              "                            &#x27;ourselves&#x27;, &#x27;you&#x27;, &quot;you&#x27;re&quot;, &quot;you&#x27;ve&quot;, &quot;you&#x27;ll&quot;,\n",
              "                            &quot;you&#x27;d&quot;, &#x27;your&#x27;, &#x27;yours&#x27;, &#x27;yourself&#x27;, &#x27;yourselves&#x27;,\n",
              "                            &#x27;he&#x27;, &#x27;him&#x27;, &#x27;his&#x27;, &#x27;himself&#x27;, &#x27;she&#x27;, &quot;she&#x27;s&quot;,\n",
              "                            &#x27;her&#x27;, &#x27;hers&#x27;, &#x27;herself&#x27;, &#x27;it&#x27;, &quot;it&#x27;s&quot;, &#x27;its&#x27;,\n",
              "                            &#x27;itself&#x27;, ...],\n",
              "                tokenizer=&lt;function tokenize at 0x7854b9206ef0&gt;)</pre></div></div></div></div></div>"
            ]
          },
          "metadata": {},
          "execution_count": 312
        }
      ]
    },
    {
      "cell_type": "code",
      "source": [
        "len(vectorizer.get_feature_names_out())"
      ],
      "metadata": {
        "colab": {
          "base_uri": "https://localhost:8080/"
        },
        "id": "vMBhBebPuOuP",
        "outputId": "592d59e4-c038-4cca-d0a3-1100faf87901"
      },
      "execution_count": null,
      "outputs": [
        {
          "output_type": "execute_result",
          "data": {
            "text/plain": [
              "1000"
            ]
          },
          "metadata": {},
          "execution_count": 313
        }
      ]
    },
    {
      "cell_type": "markdown",
      "source": [
        "# Transform questions into Vectors"
      ],
      "metadata": {
        "id": "g4MY0-4muc_F"
      }
    },
    {
      "cell_type": "code",
      "source": [
        "inputs = vectorizer.transform(sample_df.question_text)"
      ],
      "metadata": {
        "id": "mHbN03Jpubhy"
      },
      "execution_count": null,
      "outputs": []
    },
    {
      "cell_type": "code",
      "source": [
        "inputs.shape"
      ],
      "metadata": {
        "colab": {
          "base_uri": "https://localhost:8080/"
        },
        "id": "blQER7uXubei",
        "outputId": "55dc6620-ebae-4fde-b34e-086420944d61"
      },
      "execution_count": null,
      "outputs": [
        {
          "output_type": "execute_result",
          "data": {
            "text/plain": [
              "(100000, 1000)"
            ]
          },
          "metadata": {},
          "execution_count": 315
        }
      ]
    },
    {
      "cell_type": "code",
      "source": [
        "test_inputs = vectorizer.transform(test_df.question_text)"
      ],
      "metadata": {
        "id": "kdSBOatKubLh"
      },
      "execution_count": null,
      "outputs": []
    },
    {
      "cell_type": "code",
      "source": [
        "test_inputs.shape"
      ],
      "metadata": {
        "colab": {
          "base_uri": "https://localhost:8080/"
        },
        "id": "ItT-JEyuwr98",
        "outputId": "1b1f129b-0425-41b4-c8f3-6cc0162cd39d"
      },
      "execution_count": null,
      "outputs": [
        {
          "output_type": "execute_result",
          "data": {
            "text/plain": [
              "(375806, 1000)"
            ]
          },
          "metadata": {},
          "execution_count": 317
        }
      ]
    },
    {
      "cell_type": "code",
      "source": [
        "targets = sample_df.target"
      ],
      "metadata": {
        "id": "iH6mmOuNxT62"
      },
      "execution_count": null,
      "outputs": []
    },
    {
      "cell_type": "markdown",
      "source": [
        "# Split the Training and Validation set"
      ],
      "metadata": {
        "id": "G_x86wrEwvmK"
      }
    },
    {
      "cell_type": "code",
      "source": [
        "train_inputs, val_inputs, train_targets, val_targets = train_test_split(inputs,targets,train_size=0.3,random_state=42)"
      ],
      "metadata": {
        "id": "52YiHDa7w0Zw"
      },
      "execution_count": null,
      "outputs": []
    },
    {
      "cell_type": "code",
      "source": [
        "train_inputs.shape, val_inputs.shape"
      ],
      "metadata": {
        "colab": {
          "base_uri": "https://localhost:8080/"
        },
        "id": "raCoveTWxfkd",
        "outputId": "1182072b-be09-4571-dc69-555c77ec52d7"
      },
      "execution_count": null,
      "outputs": [
        {
          "output_type": "execute_result",
          "data": {
            "text/plain": [
              "((30000, 1000), (70000, 1000))"
            ]
          },
          "metadata": {},
          "execution_count": 320
        }
      ]
    },
    {
      "cell_type": "code",
      "source": [
        "train_targets.shape, val_targets.shape"
      ],
      "metadata": {
        "colab": {
          "base_uri": "https://localhost:8080/"
        },
        "id": "bzEmkmRkxkQH",
        "outputId": "ae9bffe9-3bd0-4636-a6df-a76ee871c0ee"
      },
      "execution_count": null,
      "outputs": [
        {
          "output_type": "execute_result",
          "data": {
            "text/plain": [
              "((30000,), (70000,))"
            ]
          },
          "metadata": {},
          "execution_count": 321
        }
      ]
    },
    {
      "cell_type": "markdown",
      "source": [
        "#Convert to PyTorch Tensors"
      ],
      "metadata": {
        "id": "uEDuFVjlxqQg"
      }
    },
    {
      "cell_type": "code",
      "source": [
        "train_input_tensors = torch.tensor(train_inputs.toarray()).float()\n",
        "val_input_tensors = torch.tensor(val_inputs.toarray()).float()"
      ],
      "metadata": {
        "id": "tBINTiKUxotr"
      },
      "execution_count": null,
      "outputs": []
    },
    {
      "cell_type": "code",
      "source": [
        "train_input_tensors.shape,val_input_tensors.shape"
      ],
      "metadata": {
        "colab": {
          "base_uri": "https://localhost:8080/"
        },
        "id": "Rd32FLY2zRvA",
        "outputId": "d151d34c-0454-44ec-9c35-1cd23a4826f1"
      },
      "execution_count": null,
      "outputs": [
        {
          "output_type": "execute_result",
          "data": {
            "text/plain": [
              "(torch.Size([30000, 1000]), torch.Size([70000, 1000]))"
            ]
          },
          "metadata": {},
          "execution_count": 323
        }
      ]
    },
    {
      "cell_type": "code",
      "source": [
        "train_target_tensors = torch.tensor(train_targets.values).float()\n",
        "val_target_tensors = torch.tensor(val_targets.values).float()"
      ],
      "metadata": {
        "id": "Bqwi_m4mzbwQ"
      },
      "execution_count": null,
      "outputs": []
    },
    {
      "cell_type": "code",
      "source": [
        "train_target_tensors.shape,val_target_tensors.shape"
      ],
      "metadata": {
        "colab": {
          "base_uri": "https://localhost:8080/"
        },
        "id": "uc-dgfoBzubA",
        "outputId": "01518dc9-f788-4973-c7d2-a4b89682ae96"
      },
      "execution_count": null,
      "outputs": [
        {
          "output_type": "execute_result",
          "data": {
            "text/plain": [
              "(torch.Size([30000]), torch.Size([70000]))"
            ]
          },
          "metadata": {},
          "execution_count": 325
        }
      ]
    },
    {
      "cell_type": "code",
      "source": [
        "test_inputs_tensors = torch.tensor(test_inputs.toarray()).float()"
      ],
      "metadata": {
        "id": "C2LzX5fb1AQf"
      },
      "execution_count": null,
      "outputs": []
    },
    {
      "cell_type": "markdown",
      "source": [
        "# Create PyTorch Dataloader"
      ],
      "metadata": {
        "id": "9pb9vJ8z0IcF"
      }
    },
    {
      "cell_type": "code",
      "source": [
        "train_ds = TensorDataset(train_input_tensors,train_target_tensors)\n",
        "val_ds = TensorDataset(val_input_tensors,val_target_tensors)"
      ],
      "metadata": {
        "id": "NF7izdAI1YPb"
      },
      "execution_count": null,
      "outputs": []
    },
    {
      "cell_type": "code",
      "source": [
        "test_ds = TensorDataset(test_inputs_tensors)"
      ],
      "metadata": {
        "id": "A1nQZYuC1Yp5"
      },
      "execution_count": null,
      "outputs": []
    },
    {
      "cell_type": "code",
      "source": [
        "train_dl = DataLoader(train_ds,batch_size=128,shuffle=True)"
      ],
      "metadata": {
        "id": "O5TxDQ4a1YxA"
      },
      "execution_count": null,
      "outputs": []
    },
    {
      "cell_type": "code",
      "source": [
        "val_dl = DataLoader(val_ds,batch_size=128)\n",
        "test_dl = DataLoader(test_ds,batch_size=128)"
      ],
      "metadata": {
        "id": "ofkh4cGL1Y4Q"
      },
      "execution_count": null,
      "outputs": []
    },
    {
      "cell_type": "code",
      "source": [
        "for batch in train_dl:\n",
        "  batch_inputs = batch[0]\n",
        "  batch_targets = batch[1]\n",
        "  print(batch_inputs.shape, batch_targets.shape)\n",
        "  break"
      ],
      "metadata": {
        "colab": {
          "base_uri": "https://localhost:8080/"
        },
        "id": "fMcYaxUZ1Y_p",
        "outputId": "5bc87fcc-e1c5-4faa-e660-8da8ed786f5e"
      },
      "execution_count": null,
      "outputs": [
        {
          "output_type": "stream",
          "name": "stdout",
          "text": [
            "torch.Size([128, 1000]) torch.Size([128])\n"
          ]
        }
      ]
    },
    {
      "cell_type": "code",
      "source": [
        "len(train_dl)"
      ],
      "metadata": {
        "colab": {
          "base_uri": "https://localhost:8080/"
        },
        "id": "lCQeC7Ex2k0A",
        "outputId": "3dbdbbf7-0adb-49ca-8dd7-e3e0f5a579a7"
      },
      "execution_count": null,
      "outputs": [
        {
          "output_type": "execute_result",
          "data": {
            "text/plain": [
              "235"
            ]
          },
          "metadata": {},
          "execution_count": 332
        }
      ]
    },
    {
      "cell_type": "markdown",
      "source": [
        "# Training a Deep Learning Model"
      ],
      "metadata": {
        "id": "S_F3rcv-2vqC"
      }
    },
    {
      "cell_type": "code",
      "source": [
        "class QuoraNet(nn.Module):\n",
        "  def __init__(self):\n",
        "    super().__init__()\n",
        "    self.layer1 = nn.Linear(1000,512)\n",
        "    self.layer2 = nn.Linear(512,256)\n",
        "    self.layer3 = nn.Linear(256,128)\n",
        "    self.layer4 = nn.Linear(128,64)\n",
        "    self.layer5 = nn.Linear(64,1)\n",
        "\n",
        "  def forward(self,inputs):\n",
        "    out = self.layer1(inputs)\n",
        "    out = F.relu(out)\n",
        "    out = self.layer2(out)\n",
        "    out = F.relu(out)\n",
        "    out = self.layer3(out)\n",
        "    out = F.relu(out)\n",
        "    out = self.layer4(out)\n",
        "    out = F.relu(out)\n",
        "    out = self.layer5(out)\n",
        "    return out\n"
      ],
      "metadata": {
        "id": "GADgdGV42vY9"
      },
      "execution_count": null,
      "outputs": []
    },
    {
      "cell_type": "code",
      "source": [
        "model = QuoraNet()"
      ],
      "metadata": {
        "id": "nJjXxOkX6K7T"
      },
      "execution_count": null,
      "outputs": []
    },
    {
      "cell_type": "code",
      "source": [
        "for batch in train_dl:\n",
        "  bin, bt = batch\n",
        "  print(bin.shape,bt.shape)\n",
        "\n",
        "  bo = model(bin)\n",
        "\n",
        "\n",
        "  probs = torch.sigmoid(bo[:,0])\n",
        "  preds = (probs>0.5).float()\n",
        "\n",
        "  print('Accuracy Score',accuracy_score(bt,preds))\n",
        "  print('F1 Score',f1_score(bt,preds))\n",
        "\n",
        "  print('Binary Cross Entropy Loss',F.binary_cross_entropy(preds,bt))\n",
        "\n",
        "  break"
      ],
      "metadata": {
        "colab": {
          "base_uri": "https://localhost:8080/"
        },
        "id": "2ybpsZv66dBT",
        "outputId": "da0a3dc5-02ff-4706-ba59-c7221757a548"
      },
      "execution_count": null,
      "outputs": [
        {
          "output_type": "stream",
          "name": "stdout",
          "text": [
            "torch.Size([128, 1000]) torch.Size([128])\n",
            "Accuracy Score 0.9453125\n",
            "F1 Score 0.0\n",
            "Binary Cross Entropy Loss tensor(5.4688)\n"
          ]
        }
      ]
    },
    {
      "cell_type": "code",
      "source": [
        "bt[:5],probs[:10],preds[:10]"
      ],
      "metadata": {
        "colab": {
          "base_uri": "https://localhost:8080/"
        },
        "id": "dMUVPFsM7EFA",
        "outputId": "0d3d7561-893f-481f-d061-c86b45cac962"
      },
      "execution_count": null,
      "outputs": [
        {
          "output_type": "execute_result",
          "data": {
            "text/plain": [
              "(tensor([0., 0., 1., 0., 0.]),\n",
              " tensor([0.4975, 0.4976, 0.4976, 0.4977, 0.4976, 0.4974, 0.4973, 0.4976, 0.4976,\n",
              "         0.4975], grad_fn=<SliceBackward0>),\n",
              " tensor([0., 0., 0., 0., 0., 0., 0., 0., 0., 0.]))"
            ]
          },
          "metadata": {},
          "execution_count": 336
        }
      ]
    },
    {
      "cell_type": "code",
      "source": [
        "# Evaluate model performance\n",
        "\n",
        "def evaluate(model, dl):\n",
        "  losses, accs, f1s = [], [], []\n",
        "  for batch in dl:\n",
        "      inputs, targets = batch\n",
        "      out = model(inputs)\n",
        "\n",
        "      probs = torch.sigmoid(out[:,0])\n",
        "      loss = F.binary_cross_entropy(probs, targets.float(), weight=torch.tensor(20.))\n",
        "      losses.append(loss.item())\n",
        "\n",
        "      preds = (probs > 0.5).int()\n",
        "      acc = accuracy_score(targets, preds)\n",
        "      f1 = f1_score(targets, preds)\n",
        "\n",
        "      accs.append(acc)\n",
        "      f1s.append(f1)\n",
        "\n",
        "  return torch.mean(torch.tensor(losses)).item(), torch.mean(torch.tensor(accs)).item(), torch.mean(torch.tensor(f1s)).item()"
      ],
      "metadata": {
        "id": "R7Esr2zk9NgO"
      },
      "execution_count": null,
      "outputs": []
    },
    {
      "cell_type": "code",
      "source": [
        "evaluate(model,train_dl)"
      ],
      "metadata": {
        "colab": {
          "base_uri": "https://localhost:8080/"
        },
        "id": "BmdxoyOA9OIu",
        "outputId": "be6982a0-433a-4680-e576-860ab8799a05"
      },
      "execution_count": null,
      "outputs": [
        {
          "output_type": "execute_result",
          "data": {
            "text/plain": [
              "(13.77531623840332, 0.9388408687943262, 0.0)"
            ]
          },
          "metadata": {},
          "execution_count": 338
        }
      ]
    },
    {
      "cell_type": "code",
      "source": [
        "# Train the model\n",
        "def fit(epochs, lr, model, train_dl, val_dl):\n",
        "  history=[]\n",
        "  optimizer = torch.optim.Adam(model.parameters(), lr, weight_decay=1e-5)\n",
        "\n",
        "  for epoch in range(epochs):\n",
        "\n",
        "    for batch in train_dl:\n",
        "      inputs, targets = batch\n",
        "\n",
        "      out =model(inputs)\n",
        "\n",
        "      probs = torch.sigmoid(out.flatten())\n",
        "\n",
        "      loss = F.binary_cross_entropy(probs,targets)\n",
        "      loss.backward()\n",
        "      optimizer.step()\n",
        "      optimizer.zero_grad()\n",
        "\n",
        "    loss, acc, f1 = evaluate(model, val_dl)\n",
        "    history.append([loss, acc, f1])\n",
        "\n",
        "    print(f'Epoch {epoch}; Loss {loss:.4f}; Accuracy {acc:.4f}; F1 Score {f1:.4f}')\n",
        "  return history"
      ],
      "metadata": {
        "id": "aS4ezQ6-9OTe"
      },
      "execution_count": null,
      "outputs": []
    },
    {
      "cell_type": "code",
      "source": [
        "fit(10,0.001,model, train_dl, val_dl)"
      ],
      "metadata": {
        "colab": {
          "base_uri": "https://localhost:8080/"
        },
        "id": "NiCKXN079OdF",
        "outputId": "2c6d06e8-dd13-4e14-ff89-cc677edefbca"
      },
      "execution_count": null,
      "outputs": [
        {
          "output_type": "stream",
          "name": "stdout",
          "text": [
            "Epoch 0; Loss 3.2642; Accuracy 0.9383; F1 Score 0.0000\n",
            "Epoch 1; Loss 3.2794; Accuracy 0.9450; F1 Score 0.3430\n",
            "Epoch 2; Loss 3.2776; Accuracy 0.9454; F1 Score 0.3800\n",
            "Epoch 3; Loss 3.6345; Accuracy 0.9422; F1 Score 0.4287\n",
            "Epoch 4; Loss 4.6007; Accuracy 0.9279; F1 Score 0.4305\n",
            "Epoch 5; Loss 5.7497; Accuracy 0.9412; F1 Score 0.3848\n",
            "Epoch 6; Loss 6.0131; Accuracy 0.9325; F1 Score 0.4263\n",
            "Epoch 7; Loss 6.4648; Accuracy 0.9339; F1 Score 0.4114\n",
            "Epoch 8; Loss 7.3291; Accuracy 0.9414; F1 Score 0.3964\n",
            "Epoch 9; Loss 7.6302; Accuracy 0.9389; F1 Score 0.4042\n"
          ]
        }
      ]
    },
    {
      "cell_type": "code",
      "source": [
        "model= QuoraNet()\n",
        "fit(10,0.0001,model, train_dl, val_dl)"
      ],
      "metadata": {
        "colab": {
          "base_uri": "https://localhost:8080/"
        },
        "id": "ddnQRVkN_nA-",
        "outputId": "05deff56-56ed-4d84-9cbe-1a78691e1382"
      },
      "execution_count": null,
      "outputs": [
        {
          "output_type": "stream",
          "name": "stdout",
          "text": [
            "Epoch 0; Loss 4.1717; Accuracy 0.9383; F1 Score 0.0000\n",
            "Epoch 1; Loss 3.5773; Accuracy 0.9383; F1 Score 0.0000\n",
            "Epoch 2; Loss 3.3307; Accuracy 0.9383; F1 Score 0.0000\n",
            "Epoch 3; Loss 3.2724; Accuracy 0.9432; F1 Score 0.2291\n",
            "Epoch 4; Loss 3.2832; Accuracy 0.9432; F1 Score 0.3539\n",
            "Epoch 5; Loss 3.3542; Accuracy 0.9405; F1 Score 0.4195\n",
            "Epoch 6; Loss 3.3910; Accuracy 0.9424; F1 Score 0.4024\n",
            "Epoch 7; Loss 3.5675; Accuracy 0.9431; F1 Score 0.3877\n",
            "Epoch 8; Loss 3.8661; Accuracy 0.9439; F1 Score 0.3594\n",
            "Epoch 9; Loss 4.1053; Accuracy 0.9394; F1 Score 0.3929\n"
          ]
        },
        {
          "output_type": "execute_result",
          "data": {
            "text/plain": [
              "[[4.171741962432861, 0.9383467452337424, 0.0],\n",
              " [3.5773234367370605, 0.9383467452337424, 0.0],\n",
              " [3.330695390701294, 0.9383467452337424, 0.0],\n",
              " [3.272437572479248, 0.9432191009401933, 0.22911721290095063],\n",
              " [3.2832157611846924, 0.9432333833899191, 0.3538921668571937],\n",
              " [3.3541836738586426, 0.9405462424915121, 0.4194528109278877],\n",
              " [3.3909831047058105, 0.9423886785061373, 0.4024005691127017],\n",
              " [3.567502498626709, 0.9430885185427004, 0.3877420702816257],\n",
              " [3.8660829067230225, 0.9438903760773049, 0.3593992327533162],\n",
              " [4.105301856994629, 0.9393730412640375, 0.39294959550632]]"
            ]
          },
          "metadata": {},
          "execution_count": 345
        }
      ]
    },
    {
      "cell_type": "markdown",
      "source": [
        "# Predictions"
      ],
      "metadata": {
        "id": "t2AQ0iQBKTGS"
      }
    },
    {
      "cell_type": "code",
      "source": [
        "def predict_df(df):\n",
        "  inputs = vectorizer.transform(df.question_text)\n",
        "  input_tensors = torch.tensor(inputs.toarray()).float()\n",
        "  outputs = model(input_tensors)\n",
        "  probs = torch.sigmoid(outputs.flatten())\n",
        "  preds = (probs>0.5).float()\n",
        "  return preds"
      ],
      "metadata": {
        "id": "MCyrspdDKR9E"
      },
      "execution_count": null,
      "outputs": []
    },
    {
      "cell_type": "code",
      "source": [
        "predict_df(sample_df.iloc[15:20]),sample_df.iloc[15:20].question_text.values ,sample_df.iloc[15:20].target"
      ],
      "metadata": {
        "colab": {
          "base_uri": "https://localhost:8080/"
        },
        "id": "Cvqp-ND-KwLs",
        "outputId": "ea0d1f78-3281-4da9-bcb7-a461eddaf116"
      },
      "execution_count": null,
      "outputs": [
        {
          "output_type": "execute_result",
          "data": {
            "text/plain": [
              "(tensor([0., 0., 1., 0., 0.]),\n",
              " array([\"Is there any honest woman out there that don't cheat and lie that would like a long-term relationship and try to start a family?\",\n",
              "        \"What do girls think of boys who wears girls bra's for fantasy and they are not gay?\",\n",
              "        'In Genesis, after the flood, God says that He put the rainbow in the sky as a sign of His covenant. Do Christians believe that rainbows were not created until this point in history? Or did rainbows exist before the great flood?',\n",
              "        'How did ground zero smell like?',\n",
              "        'How much does buttered chicken cost?'], dtype=object),\n",
              " 1019962    0\n",
              " 939168     0\n",
              " 879400     0\n",
              " 1300124    0\n",
              " 1289159    0\n",
              " Name: target, dtype: int64)"
            ]
          },
          "metadata": {},
          "execution_count": 355
        }
      ]
    }
  ]
}